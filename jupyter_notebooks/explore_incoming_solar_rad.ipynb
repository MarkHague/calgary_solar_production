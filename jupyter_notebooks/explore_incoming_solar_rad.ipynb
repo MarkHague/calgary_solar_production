{
 "cells": [
  {
   "cell_type": "code",
   "execution_count": 1,
   "id": "93bdeabd",
   "metadata": {},
   "outputs": [],
   "source": [
    "import pandas as pd\n",
    "import seaborn\n",
    "import matplotlib.pyplot as plt \n",
    "import numpy as np\n",
    "import datetime as dt\n",
    "\n",
    "from sklearn.linear_model import LinearRegression, Ridge\n",
    "from sklearn.preprocessing import StandardScaler\n",
    "from sklearn.preprocessing import PolynomialFeatures\n",
    "from sklearn.pipeline import Pipeline\n",
    "from sklearn.model_selection import train_test_split\n",
    "from sklearn.metrics import mean_squared_error, mean_absolute_error\n",
    "\n",
    "import sys\n",
    "sys.path.append('../../bike_sharing_demand/src/')\n",
    "import model_linear"
   ]
  },
  {
   "cell_type": "code",
   "execution_count": 26,
   "id": "f4dbe25c",
   "metadata": {},
   "outputs": [
    {
     "data": {
      "text/plain": [
       "0       2018-01-01 00:00:00\n",
       "1       2018-01-01 01:00:00\n",
       "2       2018-01-01 02:00:00\n",
       "3       2018-01-01 03:00:00\n",
       "4       2018-01-01 04:00:00\n",
       "                ...        \n",
       "61363   2024-12-31 19:00:00\n",
       "61364   2024-12-31 20:00:00\n",
       "61365   2024-12-31 21:00:00\n",
       "61366   2024-12-31 22:00:00\n",
       "61367   2024-12-31 23:00:00\n",
       "Name: date, Length: 61368, dtype: datetime64[ns]"
      ]
     },
     "execution_count": 26,
     "metadata": {},
     "output_type": "execute_result"
    }
   ],
   "source": [
    "df = pd.read_csv('../POWER_Point_Hourly_20180101_20241231_051d04N_0114d05W_LST.csv')\n",
    "df_nsr = pd.read_csv('../solar_rad_nsrdb_2018.csv')\n",
    "\n",
    "df = df.rename(columns={'YEAR': 'year', 'MO': 'month', 'DY': 'day', 'HR': 'hour'})\n",
    "df['date'] = pd.to_datetime(df[['year','month','day','hour']] )\n",
    "df['date']"
   ]
  },
  {
   "cell_type": "code",
   "execution_count": 3,
   "id": "75fd8b85",
   "metadata": {},
   "outputs": [],
   "source": [
    "# df[ (df['YEAR'] == 2024) & (df['MO'] == 6)  ].describe()\n",
    "# Data only run until end of June 2024"
   ]
  },
  {
   "cell_type": "code",
   "execution_count": 4,
   "id": "0fd09a62",
   "metadata": {},
   "outputs": [],
   "source": [
    "dfd = df.set_index('date')\n",
    "# dfd.between_time('2018-06-20', '2018-06-21')\n",
    "# dfd['20180620':'20180621']"
   ]
  },
  {
   "cell_type": "code",
   "execution_count": null,
   "id": "949a6b81",
   "metadata": {},
   "outputs": [],
   "source": []
  },
  {
   "cell_type": "code",
   "execution_count": 27,
   "id": "822e5c8a",
   "metadata": {},
   "outputs": [
    {
     "data": {
      "text/html": [
       "<div>\n",
       "<style scoped>\n",
       "    .dataframe tbody tr th:only-of-type {\n",
       "        vertical-align: middle;\n",
       "    }\n",
       "\n",
       "    .dataframe tbody tr th {\n",
       "        vertical-align: top;\n",
       "    }\n",
       "\n",
       "    .dataframe thead th {\n",
       "        text-align: right;\n",
       "    }\n",
       "</style>\n",
       "<table border=\"1\" class=\"dataframe\">\n",
       "  <thead>\n",
       "    <tr style=\"text-align: right;\">\n",
       "      <th></th>\n",
       "      <th>name</th>\n",
       "      <th>id</th>\n",
       "      <th>address</th>\n",
       "      <th>kWh</th>\n",
       "      <th>public_url</th>\n",
       "      <th>installationDate</th>\n",
       "      <th>uid</th>\n",
       "    </tr>\n",
       "    <tr>\n",
       "      <th>date</th>\n",
       "      <th></th>\n",
       "      <th></th>\n",
       "      <th></th>\n",
       "      <th></th>\n",
       "      <th></th>\n",
       "      <th></th>\n",
       "      <th></th>\n",
       "    </tr>\n",
       "  </thead>\n",
       "  <tbody>\n",
       "    <tr>\n",
       "      <th>2018-01-01 00:00:00</th>\n",
       "      <td>Bearspaw Water Treatment Plant</td>\n",
       "      <td>577650</td>\n",
       "      <td>11444 Bearspaw Dam RD NW</td>\n",
       "      <td>1.317</td>\n",
       "      <td>https://monitoringpublic.solaredge.com/solared...</td>\n",
       "      <td>2017/10/31</td>\n",
       "      <td>5776502018-01-01 00:00:00</td>\n",
       "    </tr>\n",
       "    <tr>\n",
       "      <th>2018-01-01 01:00:00</th>\n",
       "      <td>Bearspaw Water Treatment Plant</td>\n",
       "      <td>577650</td>\n",
       "      <td>11444 Bearspaw Dam RD NW</td>\n",
       "      <td>1.324</td>\n",
       "      <td>https://monitoringpublic.solaredge.com/solared...</td>\n",
       "      <td>2017/10/31</td>\n",
       "      <td>5776502018-01-01 01:00:00</td>\n",
       "    </tr>\n",
       "    <tr>\n",
       "      <th>2018-01-01 02:00:00</th>\n",
       "      <td>Bearspaw Water Treatment Plant</td>\n",
       "      <td>577650</td>\n",
       "      <td>11444 Bearspaw Dam RD NW</td>\n",
       "      <td>1.331</td>\n",
       "      <td>https://monitoringpublic.solaredge.com/solared...</td>\n",
       "      <td>2017/10/31</td>\n",
       "      <td>5776502018-01-01 02:00:00</td>\n",
       "    </tr>\n",
       "    <tr>\n",
       "      <th>2018-01-01 03:00:00</th>\n",
       "      <td>Bearspaw Water Treatment Plant</td>\n",
       "      <td>577650</td>\n",
       "      <td>11444 Bearspaw Dam RD NW</td>\n",
       "      <td>1.361</td>\n",
       "      <td>https://monitoringpublic.solaredge.com/solared...</td>\n",
       "      <td>2017/10/31</td>\n",
       "      <td>5776502018-01-01 03:00:00</td>\n",
       "    </tr>\n",
       "    <tr>\n",
       "      <th>2018-01-01 04:00:00</th>\n",
       "      <td>Bearspaw Water Treatment Plant</td>\n",
       "      <td>577650</td>\n",
       "      <td>11444 Bearspaw Dam RD NW</td>\n",
       "      <td>1.386</td>\n",
       "      <td>https://monitoringpublic.solaredge.com/solared...</td>\n",
       "      <td>2017/10/31</td>\n",
       "      <td>5776502018-01-01 04:00:00</td>\n",
       "    </tr>\n",
       "    <tr>\n",
       "      <th>...</th>\n",
       "      <td>...</td>\n",
       "      <td>...</td>\n",
       "      <td>...</td>\n",
       "      <td>...</td>\n",
       "      <td>...</td>\n",
       "      <td>...</td>\n",
       "      <td>...</td>\n",
       "    </tr>\n",
       "    <tr>\n",
       "      <th>2024-06-30 21:00:00</th>\n",
       "      <td>Richmond - Knob Hill Community Hall</td>\n",
       "      <td>332785</td>\n",
       "      <td>2433 26 AV SW</td>\n",
       "      <td>2.000</td>\n",
       "      <td>https://monitoringpublic.solaredge.com/solared...</td>\n",
       "      <td>2016/11/21</td>\n",
       "      <td>332785-2024-06-30 21:00:00</td>\n",
       "    </tr>\n",
       "    <tr>\n",
       "      <th>2024-06-30 21:00:00</th>\n",
       "      <td>Glenmore Water Treatment Plant</td>\n",
       "      <td>355827</td>\n",
       "      <td>1634 56 AV SW</td>\n",
       "      <td>98.000</td>\n",
       "      <td>https://monitoringpublic.solaredge.com/solared...</td>\n",
       "      <td>2017/01/11</td>\n",
       "      <td>355827-2024-06-30 21:00:00</td>\n",
       "    </tr>\n",
       "    <tr>\n",
       "      <th>2024-06-30 21:00:00</th>\n",
       "      <td>Manchester Building M</td>\n",
       "      <td>570079</td>\n",
       "      <td>651M 25 AV SE</td>\n",
       "      <td>9.000</td>\n",
       "      <td>https://monitoringpublic.solaredge.com/solared...</td>\n",
       "      <td>2017/10/23</td>\n",
       "      <td>570079-2024-06-30 21:00:00</td>\n",
       "    </tr>\n",
       "    <tr>\n",
       "      <th>2024-06-30 21:00:00</th>\n",
       "      <td>Calgary Fire Hall Headquarters</td>\n",
       "      <td>314106</td>\n",
       "      <td>1212 42 AV SE</td>\n",
       "      <td>7.000</td>\n",
       "      <td>https://monitoringpublic.solaredge.com/solared...</td>\n",
       "      <td>2016/11/07</td>\n",
       "      <td>314106-2024-06-30 21:00:00</td>\n",
       "    </tr>\n",
       "    <tr>\n",
       "      <th>2024-06-30 21:00:00</th>\n",
       "      <td>CFD Firehall #7</td>\n",
       "      <td>551172</td>\n",
       "      <td>2708 4 ST NW</td>\n",
       "      <td>4.000</td>\n",
       "      <td>https://monitoringpublic.solaredge.com/solared...</td>\n",
       "      <td>2017/09/13</td>\n",
       "      <td>551172-2024-06-30 21:00:00</td>\n",
       "    </tr>\n",
       "  </tbody>\n",
       "</table>\n",
       "<p>278306 rows × 7 columns</p>\n",
       "</div>"
      ],
      "text/plain": [
       "                                                    name      id  \\\n",
       "date                                                               \n",
       "2018-01-01 00:00:00       Bearspaw Water Treatment Plant  577650   \n",
       "2018-01-01 01:00:00       Bearspaw Water Treatment Plant  577650   \n",
       "2018-01-01 02:00:00       Bearspaw Water Treatment Plant  577650   \n",
       "2018-01-01 03:00:00       Bearspaw Water Treatment Plant  577650   \n",
       "2018-01-01 04:00:00       Bearspaw Water Treatment Plant  577650   \n",
       "...                                                  ...     ...   \n",
       "2024-06-30 21:00:00  Richmond - Knob Hill Community Hall  332785   \n",
       "2024-06-30 21:00:00       Glenmore Water Treatment Plant  355827   \n",
       "2024-06-30 21:00:00                Manchester Building M  570079   \n",
       "2024-06-30 21:00:00       Calgary Fire Hall Headquarters  314106   \n",
       "2024-06-30 21:00:00                      CFD Firehall #7  551172   \n",
       "\n",
       "                                      address     kWh  \\\n",
       "date                                                    \n",
       "2018-01-01 00:00:00  11444 Bearspaw Dam RD NW   1.317   \n",
       "2018-01-01 01:00:00  11444 Bearspaw Dam RD NW   1.324   \n",
       "2018-01-01 02:00:00  11444 Bearspaw Dam RD NW   1.331   \n",
       "2018-01-01 03:00:00  11444 Bearspaw Dam RD NW   1.361   \n",
       "2018-01-01 04:00:00  11444 Bearspaw Dam RD NW   1.386   \n",
       "...                                       ...     ...   \n",
       "2024-06-30 21:00:00             2433 26 AV SW   2.000   \n",
       "2024-06-30 21:00:00             1634 56 AV SW  98.000   \n",
       "2024-06-30 21:00:00             651M 25 AV SE   9.000   \n",
       "2024-06-30 21:00:00             1212 42 AV SE   7.000   \n",
       "2024-06-30 21:00:00              2708 4 ST NW   4.000   \n",
       "\n",
       "                                                            public_url  \\\n",
       "date                                                                     \n",
       "2018-01-01 00:00:00  https://monitoringpublic.solaredge.com/solared...   \n",
       "2018-01-01 01:00:00  https://monitoringpublic.solaredge.com/solared...   \n",
       "2018-01-01 02:00:00  https://monitoringpublic.solaredge.com/solared...   \n",
       "2018-01-01 03:00:00  https://monitoringpublic.solaredge.com/solared...   \n",
       "2018-01-01 04:00:00  https://monitoringpublic.solaredge.com/solared...   \n",
       "...                                                                ...   \n",
       "2024-06-30 21:00:00  https://monitoringpublic.solaredge.com/solared...   \n",
       "2024-06-30 21:00:00  https://monitoringpublic.solaredge.com/solared...   \n",
       "2024-06-30 21:00:00  https://monitoringpublic.solaredge.com/solared...   \n",
       "2024-06-30 21:00:00  https://monitoringpublic.solaredge.com/solared...   \n",
       "2024-06-30 21:00:00  https://monitoringpublic.solaredge.com/solared...   \n",
       "\n",
       "                    installationDate                         uid  \n",
       "date                                                              \n",
       "2018-01-01 00:00:00       2017/10/31   5776502018-01-01 00:00:00  \n",
       "2018-01-01 01:00:00       2017/10/31   5776502018-01-01 01:00:00  \n",
       "2018-01-01 02:00:00       2017/10/31   5776502018-01-01 02:00:00  \n",
       "2018-01-01 03:00:00       2017/10/31   5776502018-01-01 03:00:00  \n",
       "2018-01-01 04:00:00       2017/10/31   5776502018-01-01 04:00:00  \n",
       "...                              ...                         ...  \n",
       "2024-06-30 21:00:00       2016/11/21  332785-2024-06-30 21:00:00  \n",
       "2024-06-30 21:00:00       2017/01/11  355827-2024-06-30 21:00:00  \n",
       "2024-06-30 21:00:00       2017/10/23  570079-2024-06-30 21:00:00  \n",
       "2024-06-30 21:00:00       2016/11/07  314106-2024-06-30 21:00:00  \n",
       "2024-06-30 21:00:00       2017/09/13  551172-2024-06-30 21:00:00  \n",
       "\n",
       "[278306 rows x 7 columns]"
      ]
     },
     "execution_count": 27,
     "metadata": {},
     "output_type": "execute_result"
    }
   ],
   "source": [
    "dfp = pd.read_csv('../Solar_Energy_Production_20250219.csv')\n",
    "dfp['date'] = pd.to_datetime(dfp['date'])\n",
    "dfp = dfp[dfp['name'] != \"Telus Spark\"]\n",
    "\n",
    "# slice the data to only be between 2018/01/01 - 2024/06/30\n",
    "df_s = dfp.sort_values('date')\n",
    "# start = df_s.date.searchsorted(dt.datetime(2018, 1, 1,0))\n",
    "# end = df_s.date.searchsorted(dt.datetime(2024, 6, 30,23))\n",
    "# df_sub = df_s.iloc[start:end]\n",
    "df_sub = df_s.set_index('date')['20180101':'20240630']\n",
    "df_sub"
   ]
  },
  {
   "cell_type": "code",
   "execution_count": 6,
   "id": "b9c1a79e",
   "metadata": {},
   "outputs": [],
   "source": [
    "df_merged = pd.merge_asof(df_sub, df, on='date')\n",
    "\n",
    "df_merged = df_merged.set_index('date')"
   ]
  },
  {
   "cell_type": "code",
   "execution_count": 7,
   "id": "39089716",
   "metadata": {},
   "outputs": [
    {
     "data": {
      "text/plain": [
       "<Axes: xlabel='ALLSKY_SFC_SW_DWN', ylabel='kWh'>"
      ]
     },
     "execution_count": 7,
     "metadata": {},
     "output_type": "execute_result"
    },
    {
     "data": {
      "image/png": "[encoded data removed]",
      "text/plain": [
       "<Figure size 640x480 with 1 Axes>"
      ]
     },
     "metadata": {},
     "output_type": "display_data"
    }
   ],
   "source": [
    "df_pp = df_merged['20210810':'20210811'][['kWh','ALLSKY_SFC_SW_DWN','name']]\n",
    "df_pp[df_pp['name'] == 'CFD Firehall #7'].plot(x='ALLSKY_SFC_SW_DWN', y = 'kWh', kind = 'scatter')"
   ]
  },
  {
   "cell_type": "code",
   "execution_count": 82,
   "id": "2eb7b936",
   "metadata": {},
   "outputs": [],
   "source": [
    "# df_pp.ALLSKY_SFC_SW_DWN.plot()\n",
    "# df_pp.kWh.plot(color = 'r')\n",
    "# location = 'Manchester Building M'\n",
    "# df_pp[df_pp['name'] == location].ALLSKY_SFC_SW_DWN.plot(color = 'r', logy = True)\n",
    "# df_pp[df_pp['name'] == location].kWh.plot(logy = True)\n"
   ]
  },
  {
   "cell_type": "code",
   "execution_count": 8,
   "id": "da4821cd",
   "metadata": {},
   "outputs": [
    {
     "data": {
      "text/plain": [
       "count    3364.000000\n",
       "mean      245.834491\n",
       "std       272.294954\n",
       "min         0.000008\n",
       "25%        19.109229\n",
       "50%       129.030469\n",
       "75%       407.968398\n",
       "max      1008.813780\n",
       "Name: kWh, dtype: float64"
      ]
     },
     "execution_count": 8,
     "metadata": {},
     "output_type": "execute_result"
    }
   ],
   "source": [
    "# lets try to fit a simple linear regression \n",
    "# first lets sum all the locations together \n",
    "func_dict = {'kWh': 'sum', 'month': 'median', \n",
    "            'day': 'median', 'hour': 'median', 'ALLSKY_SFC_SW_DWN':'median'}\n",
    "df_merged_all_locs = df_merged[['name','kWh',\n",
    "                           'month','day','hour',\n",
    "                           'ALLSKY_SFC_SW_DWN']].groupby('date').aggregate(func_dict)\n",
    "\n",
    "# data after 25 September 2023 suddenly change to units of Watts instead of kW\n",
    "# so we need to divide it by 1000\n",
    "date_start = '20230925'\n",
    "date_end = '20240630'\n",
    "df_merged_all_locs.loc[date_start:date_end, 'kWh'] = df_merged_all_locs.loc[date_start:date_end, 'kWh'] * (1/1000)\n",
    "df_merged_all_locs[date_start:date_end]['kWh'].describe()"
   ]
  },
  {
   "cell_type": "code",
   "execution_count": 119,
   "id": "3119fec0",
   "metadata": {},
   "outputs": [
    {
     "name": "stdout",
     "output_type": "stream",
     "text": [
      "manual summing: 7.028\n",
      "groupby: date\n",
      "2018-01-02 00:00:00     0.547\n",
      "2018-01-02 01:00:00     0.558\n",
      "2018-01-02 02:00:00     0.558\n",
      "2018-01-02 03:00:00     0.552\n",
      "2018-01-02 04:00:00     0.563\n",
      "2018-01-02 05:00:00     0.559\n",
      "2018-01-02 06:00:00     0.562\n",
      "2018-01-02 07:00:00     0.571\n",
      "2018-01-02 08:00:00     0.625\n",
      "2018-01-02 09:00:00     1.933\n",
      "2018-01-02 10:00:00    12.331\n",
      "2018-01-02 11:00:00    32.355\n",
      "2018-01-02 12:00:00    76.651\n",
      "2018-01-02 13:00:00    82.000\n",
      "2018-01-02 14:00:00    39.280\n",
      "2018-01-02 15:00:00    21.224\n",
      "2018-01-02 16:00:00     1.747\n",
      "Name: kWh, dtype: float64\n"
     ]
    }
   ],
   "source": [
    "# does this make sense?\n",
    "# df_merged_all_locs['20190921':'20190921']\n",
    "date = '20180102'\n",
    "print( f\"manual summing: {df_merged[date:date]['kWh'].iloc[0:10].sum() }\" )\n",
    "print(f\"groupby: {df_merged_all_locs[date:date]['kWh']}\")"
   ]
  },
  {
   "cell_type": "code",
   "execution_count": 141,
   "id": "17481e34",
   "metadata": {},
   "outputs": [],
   "source": [
    "# date = '20190401'\n",
    "# loc = \"Southland Leisure Centre\"\n",
    "# df_merged[df_merged[\"name\"] == loc][date:date]"
   ]
  },
  {
   "cell_type": "code",
   "execution_count": 9,
   "id": "3cea665b",
   "metadata": {},
   "outputs": [
    {
     "name": "stderr",
     "output_type": "stream",
     "text": [
      "/Users/markhague/miniconda3/envs/sklearn-env/lib/python3.13/site-packages/sklearn/feature_selection/_univariate_selection.py:783: UserWarning: k=6 is greater than n_features=2. All the features will be returned.\n",
      "  warnings.warn(\n"
     ]
    },
    {
     "data": {
      "text/plain": [
       "231.11444033677984"
      ]
     },
     "execution_count": 9,
     "metadata": {},
     "output_type": "execute_result"
    }
   ],
   "source": [
    "features = df_merged_all_locs.drop(columns=['kWh','ALLSKY_SFC_SW_DWN']).to_numpy()[:,1:]\n",
    "target = df_merged_all_locs['kWh'].to_numpy()\n",
    "\n",
    "x_train, x_test, y_train, y_test = train_test_split(features, target, test_size=0.3,\n",
    "                                            random_state = 1)\n",
    "\n",
    "# split data into train/test/validation\n",
    "\n",
    "x_train, x_, y_train, y_ = train_test_split(features, target, test_size=0.4,\n",
    "                                            random_state = 1)\n",
    "# Split the subset above into two: one half for cross validation and the other for the test set\n",
    "x_cv, x_test, y_cv, y_test = train_test_split(x_, y_, test_size=0.50, random_state=1)\n",
    "\n",
    "linear_model_daily = model_linear.ModelLinear(n_poly = 7, n_features = 6)\n",
    "trained_model = linear_model_daily.train_model(\n",
    "                    x_train = x_train,\n",
    "                    y_train = y_train)\n",
    "\n",
    "pred_train = trained_model.predict(x_train)\n",
    "pred_cv = trained_model.predict(x_cv)\n",
    "\n",
    "mean_absolute_error(y_cv, pred_cv)"
   ]
  },
  {
   "cell_type": "code",
   "execution_count": 12,
   "id": "067e9f95",
   "metadata": {},
   "outputs": [
    {
     "data": {
      "text/plain": [
       "<matplotlib.legend.Legend at 0x14bfd7ed0>"
      ]
     },
     "execution_count": 12,
     "metadata": {},
     "output_type": "execute_result"
    },
    {
     "data": {
      "image/png": "[encoded data removed]",
      "text/plain": [
       "<Figure size 640x480 with 1 Axes>"
      ]
     },
     "metadata": {},
     "output_type": "display_data"
    }
   ],
   "source": [
    "xi = 4000 \n",
    "stride = 100\n",
    "\n",
    "plt.plot(pred_cv[xi:xi+stride], color = 'r', label = 'Pred.')\n",
    "plt.plot(y_cv[xi:xi+stride], color = 'k', label = 'Actual', alpha = .6)\n",
    "# plt.yscale('log')\n",
    "plt.legend()"
   ]
  },
  {
   "cell_type": "code",
   "execution_count": 22,
   "id": "225f8fe7",
   "metadata": {},
   "outputs": [
    {
     "data": {
      "text/plain": [
       "count    3.364000e+03\n",
       "mean     2.458345e-04\n",
       "std      2.722950e-04\n",
       "min      8.000000e-12\n",
       "25%      1.910923e-05\n",
       "50%      1.290305e-04\n",
       "75%      4.079684e-04\n",
       "max      1.008814e-03\n",
       "Name: kWh, dtype: float64"
      ]
     },
     "execution_count": 22,
     "metadata": {},
     "output_type": "execute_result"
    }
   ],
   "source": [
    "date_start = '20230925'\n",
    "date_end = '20240630'\n",
    "df_merged_all_locs.loc[date_start:date_end, 'kWh'] = df_merged_all_locs.loc[date_start:date_end, 'kWh'] * (1/1000)\n",
    "df_merged_all_locs[date_start:date_end]['kWh'].describe()"
   ]
  },
  {
   "cell_type": "code",
   "execution_count": 18,
   "id": "a648bca7",
   "metadata": {},
   "outputs": [
    {
     "data": {
      "text/html": [
       "<div>\n",
       "<style scoped>\n",
       "    .dataframe tbody tr th:only-of-type {\n",
       "        vertical-align: middle;\n",
       "    }\n",
       "\n",
       "    .dataframe tbody tr th {\n",
       "        vertical-align: top;\n",
       "    }\n",
       "\n",
       "    .dataframe thead th {\n",
       "        text-align: right;\n",
       "    }\n",
       "</style>\n",
       "<table border=\"1\" class=\"dataframe\">\n",
       "  <thead>\n",
       "    <tr style=\"text-align: right;\">\n",
       "      <th></th>\n",
       "      <th>kWh</th>\n",
       "      <th>month</th>\n",
       "      <th>day</th>\n",
       "      <th>hour</th>\n",
       "      <th>ALLSKY_SFC_SW_DWN</th>\n",
       "    </tr>\n",
       "    <tr>\n",
       "      <th>date</th>\n",
       "      <th></th>\n",
       "      <th></th>\n",
       "      <th></th>\n",
       "      <th></th>\n",
       "      <th></th>\n",
       "    </tr>\n",
       "  </thead>\n",
       "  <tbody>\n",
       "    <tr>\n",
       "      <th>2018-01-01 00:00:00</th>\n",
       "      <td>1.317</td>\n",
       "      <td>1.0</td>\n",
       "      <td>1.0</td>\n",
       "      <td>0.0</td>\n",
       "      <td>0.00</td>\n",
       "    </tr>\n",
       "    <tr>\n",
       "      <th>2018-01-01 01:00:00</th>\n",
       "      <td>1.324</td>\n",
       "      <td>1.0</td>\n",
       "      <td>1.0</td>\n",
       "      <td>1.0</td>\n",
       "      <td>0.00</td>\n",
       "    </tr>\n",
       "    <tr>\n",
       "      <th>2018-01-01 02:00:00</th>\n",
       "      <td>1.331</td>\n",
       "      <td>1.0</td>\n",
       "      <td>1.0</td>\n",
       "      <td>2.0</td>\n",
       "      <td>0.00</td>\n",
       "    </tr>\n",
       "    <tr>\n",
       "      <th>2018-01-01 03:00:00</th>\n",
       "      <td>1.361</td>\n",
       "      <td>1.0</td>\n",
       "      <td>1.0</td>\n",
       "      <td>3.0</td>\n",
       "      <td>0.00</td>\n",
       "    </tr>\n",
       "    <tr>\n",
       "      <th>2018-01-01 04:00:00</th>\n",
       "      <td>1.386</td>\n",
       "      <td>1.0</td>\n",
       "      <td>1.0</td>\n",
       "      <td>4.0</td>\n",
       "      <td>0.00</td>\n",
       "    </tr>\n",
       "    <tr>\n",
       "      <th>...</th>\n",
       "      <td>...</td>\n",
       "      <td>...</td>\n",
       "      <td>...</td>\n",
       "      <td>...</td>\n",
       "      <td>...</td>\n",
       "    </tr>\n",
       "    <tr>\n",
       "      <th>2024-06-30 17:00:00</th>\n",
       "      <td>292641.741</td>\n",
       "      <td>6.0</td>\n",
       "      <td>30.0</td>\n",
       "      <td>17.0</td>\n",
       "      <td>171.40</td>\n",
       "    </tr>\n",
       "    <tr>\n",
       "      <th>2024-06-30 18:00:00</th>\n",
       "      <td>295102.984</td>\n",
       "      <td>6.0</td>\n",
       "      <td>30.0</td>\n",
       "      <td>18.0</td>\n",
       "      <td>70.32</td>\n",
       "    </tr>\n",
       "    <tr>\n",
       "      <th>2024-06-30 19:00:00</th>\n",
       "      <td>176820.063</td>\n",
       "      <td>6.0</td>\n",
       "      <td>30.0</td>\n",
       "      <td>19.0</td>\n",
       "      <td>19.27</td>\n",
       "    </tr>\n",
       "    <tr>\n",
       "      <th>2024-06-30 20:00:00</th>\n",
       "      <td>51043.222</td>\n",
       "      <td>6.0</td>\n",
       "      <td>30.0</td>\n",
       "      <td>20.0</td>\n",
       "      <td>0.00</td>\n",
       "    </tr>\n",
       "    <tr>\n",
       "      <th>2024-06-30 21:00:00</th>\n",
       "      <td>190.688</td>\n",
       "      <td>6.0</td>\n",
       "      <td>30.0</td>\n",
       "      <td>21.0</td>\n",
       "      <td>0.00</td>\n",
       "    </tr>\n",
       "  </tbody>\n",
       "</table>\n",
       "<p>31173 rows × 5 columns</p>\n",
       "</div>"
      ],
      "text/plain": [
       "                            kWh  month   day  hour  ALLSKY_SFC_SW_DWN\n",
       "date                                                                 \n",
       "2018-01-01 00:00:00       1.317    1.0   1.0   0.0               0.00\n",
       "2018-01-01 01:00:00       1.324    1.0   1.0   1.0               0.00\n",
       "2018-01-01 02:00:00       1.331    1.0   1.0   2.0               0.00\n",
       "2018-01-01 03:00:00       1.361    1.0   1.0   3.0               0.00\n",
       "2018-01-01 04:00:00       1.386    1.0   1.0   4.0               0.00\n",
       "...                         ...    ...   ...   ...                ...\n",
       "2024-06-30 17:00:00  292641.741    6.0  30.0  17.0             171.40\n",
       "2024-06-30 18:00:00  295102.984    6.0  30.0  18.0              70.32\n",
       "2024-06-30 19:00:00  176820.063    6.0  30.0  19.0              19.27\n",
       "2024-06-30 20:00:00   51043.222    6.0  30.0  20.0               0.00\n",
       "2024-06-30 21:00:00     190.688    6.0  30.0  21.0               0.00\n",
       "\n",
       "[31173 rows x 5 columns]"
      ]
     },
     "execution_count": 18,
     "metadata": {},
     "output_type": "execute_result"
    }
   ],
   "source": [
    "df_merged_all_locs"
   ]
  },
  {
   "cell_type": "code",
   "execution_count": null,
   "id": "a4f186bb",
   "metadata": {},
   "outputs": [],
   "source": []
  }
 ],
 "metadata": {
  "kernelspec": {
   "display_name": "Python 3 (ipykernel)",
   "language": "python",
   "name": "python3"
  },
  "language_info": {
   "codemirror_mode": {
    "name": "ipython",
    "version": 3
   },
   "file_extension": ".py",
   "mimetype": "text/x-python",
   "name": "python",
   "nbconvert_exporter": "python",
   "pygments_lexer": "ipython3",
   "version": "3.13.1"
  }
 },
 "nbformat": 4,
 "nbformat_minor": 5
}
